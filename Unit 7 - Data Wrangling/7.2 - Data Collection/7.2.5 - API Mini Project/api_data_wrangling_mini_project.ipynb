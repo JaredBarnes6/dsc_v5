{
 "cells": [
  {
   "cell_type": "markdown",
   "metadata": {},
   "source": [
    "This exercise will require you to pull some data from https://data.nasdaq.com/ (formerly Quandl API)."
   ]
  },
  {
   "cell_type": "markdown",
   "metadata": {},
   "source": [
    "As a first step, you will need to register a free account on the https://data.nasdaq.com/ website."
   ]
  },
  {
   "cell_type": "markdown",
   "metadata": {},
   "source": [
    "After you register, you will be provided with a unique API key, that you should store:\n",
    "\n",
    "*Note*: Use a `.env` file and put your key in there and `python-dotenv` to access it in this notebook. \n",
    "\n",
    "The code below uses a key that was used when generating this project but has since been deleted. Never submit your keys to source control. There is a `.env-example` file in this repository to illusrtate what you need. Copy that to a file called `.env` and use your own api key in that `.env` file. Make sure you also have a `.gitignore` file with a line for `.env` added to it. \n",
    "\n",
    "The standard Python gitignore is [here](https://github.com/github/gitignore/blob/master/Python.gitignore) you can just copy that. "
   ]
  },
  {
   "cell_type": "code",
   "execution_count": 19,
   "metadata": {},
   "outputs": [],
   "source": [
    "# get api key from your .env file\n",
    "import os\n",
    "from dotenv import load_dotenv\n",
    "\n",
    "load_dotenv()\n",
    "API_KEY = os.getenv('NASDAQ_API_KEY')\n",
    "\n",
    "#print(API_KEY)"
   ]
  },
  {
   "cell_type": "markdown",
   "metadata": {},
   "source": [
    "Nasdaq Data has a large number of data sources, but, unfortunately, most of them require a Premium subscription. Still, there are also a good number of free datasets."
   ]
  },
  {
   "cell_type": "markdown",
   "metadata": {},
   "source": [
    "For this mini project, we will focus on equities data from the Frankfurt Stock Exhange (FSE), which is available for free. We'll try and analyze the stock prices of a company called Carl Zeiss Meditec, which manufactures tools for eye examinations, as well as medical lasers for laser eye surgery: https://www.zeiss.com/meditec/int/home.html. The company is listed under the stock ticker AFX_X."
   ]
  },
  {
   "cell_type": "markdown",
   "metadata": {},
   "source": [
    "You can find the detailed Nasdaq Data API instructions here: https://docs.data.nasdaq.com/docs/in-depth-usage"
   ]
  },
  {
   "cell_type": "markdown",
   "metadata": {},
   "source": [
    "While there is a dedicated Python package for connecting to the Nasdaq API, we would prefer that you use the *requests* package, which can be easily downloaded using *pip* or *conda*. You can find the documentation for the package here: http://docs.python-requests.org/en/master/ "
   ]
  },
  {
   "cell_type": "markdown",
   "metadata": {},
   "source": [
    "Finally, apart from the *requests* package, you are encouraged to not use any third party Python packages, such as *pandas*, and instead focus on what's available in the Python Standard Library (the *collections* module might come in handy: https://pymotw.com/3/collections/).\n",
    "Also, since you won't have access to DataFrames, you are encouraged to us Python's native data structures - preferably dictionaries, though some questions can also be answered using lists.\n",
    "You can read more on these data structures here: https://docs.python.org/3/tutorial/datastructures.html"
   ]
  },
  {
   "cell_type": "markdown",
   "metadata": {},
   "source": [
    "Keep in mind that the JSON responses you will be getting from the API map almost one-to-one to Python's dictionaries. Unfortunately, they can be very nested, so make sure you read up on indexing dictionaries in the documentation provided above."
   ]
  },
  {
   "cell_type": "code",
   "execution_count": 21,
   "metadata": {},
   "outputs": [],
   "source": [
    "# First, import the relevant modules\n",
    "import requests\n",
    "import json"
   ]
  },
  {
   "cell_type": "markdown",
   "metadata": {},
   "source": [
    "Note: API's can change a bit with each version, for this exercise it is reccomended to use the nasdaq api at `https://data.nasdaq.com/api/v3/`. This is the same api as what used to be quandl so `https://www.quandl.com/api/v3/` should work too.\n",
    "\n",
    "Hint: We are looking for the `AFX_X` data on the `datasets/FSE/` dataset."
   ]
  },
  {
   "cell_type": "code",
   "execution_count": 39,
   "metadata": {},
   "outputs": [
    {
     "name": "stdout",
     "output_type": "stream",
     "text": [
      "['2020-12-01', 112.2, 112.2, 111.5, 112.0, None, 51.0, 5703.0, None, None, None]\n"
     ]
    }
   ],
   "source": [
    "# Now, call the Nasdaq API and pull out a small sample of the data (only one day) to get a glimpse\n",
    "# into the JSON structure that will be returned\n",
    "\n",
    "url = 'https://data.nasdaq.com/api/v3/datasets/FSE/AFX_X'\n",
    "r = requests.get(url)\n",
    "json_data = r.json()\n",
    "\n",
    "# Printing the data of just one day from json_data (one day of data is a list within \n",
    "# a list of values for the key 'data', which is a value for the key 'dataset' within \n",
    "# the dictionary 'json_data').\n",
    "print(json_data['dataset']['data'][0])"
   ]
  },
  {
   "cell_type": "code",
   "execution_count": 127,
   "metadata": {},
   "outputs": [],
   "source": [
    "# Inspect the JSON structure of the object you created, and take note of how nested it is,\n",
    "# as well as the overall structure\n",
    "  \n",
    "# Print each key-value pair in json_data to see its structure.\n",
    "#for key, value in json_data.items():\n",
    "#    print(key + ':', value)"
   ]
  },
  {
   "cell_type": "code",
   "execution_count": 128,
   "metadata": {},
   "outputs": [
    {
     "name": "stdout",
     "output_type": "stream",
     "text": [
      "<class 'dict'>\n"
     ]
    }
   ],
   "source": [
    "# Printing the type of json_data to observe its structure\n",
    "print(type(json_data))"
   ]
  },
  {
   "cell_type": "markdown",
   "metadata": {},
   "source": [
    "These are your tasks for this mini project:\n",
    "\n",
    "1. Collect data from the Franfurt Stock Exchange, for the ticker AFX_X, for the whole year 2017 (keep in mind that the date format is YYYY-MM-DD).\n",
    "2. Convert the returned JSON object into a Python dictionary.\n",
    "3. Calculate what the highest and lowest opening prices were for the stock in this period.\n",
    "4. What was the largest change in any one day (based on High and Low price)?\n",
    "5. What was the largest change between any two days (based on Closing Price)?\n",
    "6. What was the average daily trading volume during this year?\n",
    "7. (Optional) What was the median trading volume during this year. (Note: you may need to implement your own function for calculating the median.)"
   ]
  },
  {
   "cell_type": "code",
   "execution_count": 129,
   "metadata": {},
   "outputs": [
    {
     "name": "stdout",
     "output_type": "stream",
     "text": [
      "[['2017-12-29', 51.76, 51.94, 51.45, 51.76, None, 34640.0, 1792304.0, None, None, None], ['2017-12-28', 51.65, 51.82, 51.43, 51.6, None, 40660.0, 2099024.0, None, None, None], ['2017-12-27', 51.45, 51.89, 50.76, 51.82, None, 57452.0, 2957018.0, None, None, None], ['2017-12-22', 51.05, 51.5, 50.92, 51.32, None, 71165.0, 3641949.0, None, None, None], ['2017-12-21', 51.16, 51.52, 50.9, 51.4, None, 120649.0, 6179433.0, None, None, None], ['2017-12-20', 51.88, 52.04, 51.2, 51.27, None, 50587.0, 2610258.0, None, None, None], ['2017-12-19', 52.73, 52.73, 51.07, 51.66, None, 137313.0, 7102361.0, None, None, None], ['2017-12-18', 52.37, 52.75, 51.61, 52.62, None, 129733.0, 6770499.0, None, None, None], ['2017-12-15', 52.7, 52.7, 51.64, 52.01, None, 204080.0, 10596319.0, None, None, None], ['2017-12-14', 53.11, 53.54, 52.15, 52.67, None, 132981.0, 7016953.0, None, None, None]]\n"
     ]
    }
   ],
   "source": [
    "# (1.) Collecting just the 2017 data from json_data and storing it in json_data_2017\n",
    "\n",
    "# Initializing an empty list of data called json_data_2017.\n",
    "json_data_2017_list = []\n",
    "for list in json_data['dataset']['data']:\n",
    "    if list[0][:4] == '2017':   # If the year portion of the data is 2017, then the list gets appended to the 2017 data list.\n",
    "        json_data_2017_list.append(list)    \n",
    "\n",
    "# Printing out the first 10 lists of data for 2017 data lists to see if it worked. \n",
    "print(json_data_2017_list[:10])   "
   ]
  },
  {
   "cell_type": "code",
   "execution_count": 130,
   "metadata": {},
   "outputs": [
    {
     "name": "stdout",
     "output_type": "stream",
     "text": [
      "<class 'dict'>\n"
     ]
    }
   ],
   "source": [
    "# (2.) Converting the JSON object into a dictionary.\n",
    "\n",
    "# In problem (1.) I stored the 2017 data in a list, so I will convert that list into a dictionary \n",
    "# with all the original data from json_data, except only with year data from 2017. See the \n",
    "# following code:\n",
    "json_data_2017_dict = json_data\n",
    "json_data_2017_dict['data']=json_data_2017_list\n",
    "\n",
    "# However, assuming that the 2017 data were stored in a JSON object called json_data_2017_json_object,\n",
    "# I would convert it to a python dictionary with the following code:\n",
    "# json_data_2017_dict = json.laod(json_data_2017_json_object)\n",
    "\n",
    "print(type(json_data_2017_dict))"
   ]
  },
  {
   "cell_type": "code",
   "execution_count": 131,
   "metadata": {},
   "outputs": [
    {
     "name": "stdout",
     "output_type": "stream",
     "text": [
      "Max Opening Price: 122.1, Min Opening Price: 10.96\n"
     ]
    }
   ],
   "source": [
    "# (3.) Determining the Highest and Lowest opening prices of stock for 2017.\n",
    "\n",
    "#Initialize a list of all opening values in 2017\n",
    "opening_prices_list = []\n",
    "\n",
    "for price in json_data_2017_dict['dataset']['data']:\n",
    "    if type(price[1])==float:  # Only returns floating values, since there are some NonType values in the data.\n",
    "        opening_prices_list.append(price[1]) # Appends each opening value to opening_prices_list\n",
    "\n",
    "# Printing the maximum opening price and the minimum opening price for the year 2017.        \n",
    "print(\"Max Opening Price: \"+ str(max(opening_prices_list)) + \", \" + \"Min Opening Price: \" + str(min(opening_prices_list)))"
   ]
  },
  {
   "cell_type": "code",
   "execution_count": 117,
   "metadata": {},
   "outputs": [
    {
     "name": "stdout",
     "output_type": "stream",
     "text": [
      "Highest Price Difference in One Day: 14.099999999999994\n"
     ]
    }
   ],
   "source": [
    "# (4.) Finding the largest change in a given day, based on the high price \n",
    "# minus the low price for that day.\n",
    "\n",
    "# Initializing a list of price changes for each day. \n",
    "price_change_list = []\n",
    "\n",
    "for price in json_data_2017_dict['dataset']['data']:\n",
    "    if type(price[2])==float and type(price[3])==float:  # Only returns floating values, since there are some NonType values in the data.\n",
    "        differ=price[2]-price[3]\n",
    "        price_change_list.append(differ) # Appends the difference between high price and low price to price_change_list.\n",
    "\n",
    "print('Highest Price Difference in One Day: '+ str(max(price_change_list)))"
   ]
  },
  {
   "cell_type": "code",
   "execution_count": 122,
   "metadata": {},
   "outputs": [
    {
     "name": "stdout",
     "output_type": "stream",
     "text": [
      "Maximum Price Change Between Two Consecutive Days: 8.950000000000003\n"
     ]
    }
   ],
   "source": [
    "# (5.) Calculating largest price change between any two days. \n",
    "\n",
    "# Initialize price_change_2_list, list of price changes between any two days.\n",
    "price_change_2_list = []\n",
    "\n",
    "#Initializing the old and new prices (1 day's price and the next day's price.) The difference between\n",
    "# them will be appended to price_change_2_list.\n",
    "old_price = 0\n",
    "new_price = 0\n",
    "\n",
    "\n",
    "for price in json_data_2017_dict['dataset']['data']:\n",
    "    if type(price[4])==float:  # Only returns floating values, since there are some NonType values in the data.\n",
    "        new_price=price[4]\n",
    "        differ=new_price-old_price\n",
    "        price_change_2_list.append(differ) # Appends the difference between new price and old price to price_change_2_list.\n",
    "        old_price=new_price\n",
    "        \n",
    "price_change_2_list = price_change_2_list[1:] # This gets rid of the first value, since the difference is from 0 (initialized value) to the full stock price of 112.0.\n",
    "print('Maximum Price Change Between Two Consecutive Days: '+str(max(price_change_2_list)))        \n",
    "\n"
   ]
  },
  {
   "cell_type": "code",
   "execution_count": 125,
   "metadata": {},
   "outputs": [
    {
     "name": "stdout",
     "output_type": "stream",
     "text": [
      "Mean Daily Trading Volume for 2017: 77446.30313075507\n"
     ]
    }
   ],
   "source": [
    "# (6.) Calculating average daily trading volume for all of 2017.\n",
    "\n",
    "#Initializing trading_volume_list, a list of each day's trading volume.\n",
    "trading_volume_list = []\n",
    "tot = 0 # Total number of volumes. Will be used in the mean calculation at the end. \n",
    "\n",
    "for price in json_data_2017_dict['dataset']['data']:\n",
    "    if type(price[6])==float:  # Only returns floating values, since there are some NonType values in the data.\n",
    "        trading_volume_list.append(price[6]) # Appends the trading volume to trading_volume_list.\n",
    "        tot+=1\n",
    "        \n",
    "print('Mean Daily Trading Volume for 2017: '+str(sum(trading_volume_list)/tot)) # Calculating the mean, using sum()/tot"
   ]
  },
  {
   "cell_type": "code",
   "execution_count": null,
   "metadata": {},
   "outputs": [],
   "source": []
  }
 ],
 "metadata": {
  "interpreter": {
   "hash": "7635eb1b9d0fe97add78a7368b6b431c09bb8ad5c42e437d64abdd99821c31ae"
  },
  "kernelspec": {
   "display_name": "Python 3 (ipykernel)",
   "language": "python",
   "name": "python3"
  },
  "language_info": {
   "codemirror_mode": {
    "name": "ipython",
    "version": 3
   },
   "file_extension": ".py",
   "mimetype": "text/x-python",
   "name": "python",
   "nbconvert_exporter": "python",
   "pygments_lexer": "ipython3",
   "version": "3.9.7"
  }
 },
 "nbformat": 4,
 "nbformat_minor": 4
}
